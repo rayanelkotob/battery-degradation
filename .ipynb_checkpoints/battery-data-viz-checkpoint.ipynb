{
 "cells": [
  {
   "cell_type": "code",
   "execution_count": 5,
   "metadata": {},
   "outputs": [],
   "source": [
    "# The main purpose of this notebook is to get a better understanding of the NASA PCoE data and make sure the empirical\n",
    "# data can be used to determine coefficients in degradation functions."
   ]
  },
  {
   "cell_type": "code",
   "execution_count": 44,
   "metadata": {},
   "outputs": [],
   "source": [
    "# import needed libraries\n",
    "import numpy as np\n",
    "import pandas as pd\n",
    "import scipy.io as spio\n",
    "from scipy.io import loadmat"
   ]
  },
  {
   "cell_type": "code",
   "execution_count": 45,
   "metadata": {},
   "outputs": [],
   "source": [
    "# battery data is not one dimensional, need to extract type (only discharge), ambient_temperature, and capacity from file\n",
    "batterydata5=spio.loadmat('battery-data-B0005.mat',struct_as_record=False,squeeze_me=True)"
   ]
  },
  {
   "cell_type": "code",
   "execution_count": 49,
   "metadata": {},
   "outputs": [
    {
     "data": {
      "text/plain": [
       "['B0005', '__globals__', '__header__', '__version__']"
      ]
     },
     "execution_count": 49,
     "metadata": {},
     "output_type": "execute_result"
    }
   ],
   "source": [
    "sorted(batterydata5.keys())"
   ]
  },
  {
   "cell_type": "code",
   "execution_count": 48,
   "metadata": {},
   "outputs": [
    {
     "data": {
      "text/plain": [
       "{'__header__': b'MATLAB 5.0 MAT-file, Platform: PCWIN, Created on: Wed Oct 01 15:50:14 2008',\n",
       " '__version__': '1.0',\n",
       " '__globals__': [],\n",
       " 'B0005': <scipy.io.matlab.mio5_params.mat_struct at 0x26ccdd59748>}"
      ]
     },
     "execution_count": 48,
     "metadata": {},
     "output_type": "execute_result"
    }
   ],
   "source": [
    "batterydata5"
   ]
  },
  {
   "cell_type": "code",
   "execution_count": 50,
   "metadata": {},
   "outputs": [
    {
     "ename": "SyntaxError",
     "evalue": "invalid syntax (<ipython-input-50-786bce6405fe>, line 12)",
     "output_type": "error",
     "traceback": [
      "\u001b[1;36m  File \u001b[1;32m\"<ipython-input-50-786bce6405fe>\"\u001b[1;36m, line \u001b[1;32m12\u001b[0m\n\u001b[1;33m    print '\\t' * indent + 'Key: ' + str(key)\u001b[0m\n\u001b[1;37m             ^\u001b[0m\n\u001b[1;31mSyntaxError\u001b[0m\u001b[1;31m:\u001b[0m invalid syntax\n"
     ]
    }
   ],
   "source": [
    "def print_mat_nested(d, indent=0, nkeys=0):\n",
    "    \"\"\"Pretty print nested structures from .mat files   \n",
    "    Inspired by: `StackOverflow <http://stackoverflow.com/questions/3229419/pretty-printing-nested-dictionaries-in-python>`_\n",
    "    \"\"\"\n",
    "    \n",
    "    # Subset dictionary to limit keys to print.  Only works on first level\n",
    "    if nkeys>0:\n",
    "        d = {k: d[k] for k in d.keys()[:nkeys]}  # Dictionary comprehension: limit to first nkeys keys.\n",
    "\n",
    "    if isinstance(d, dict):\n",
    "        for key, value in d.iteritems(): # iteritems loops through key, value pairs\n",
    "          print '\\t' * indent + 'Key: ' + str(key)\n",
    "          print_mat_nested(value, indent+1)\n",
    "\n",
    "    if isinstance(d,np.ndarray) and d.dtype.names is not None:  # Note: and short-circuits by default\n",
    "        for n in d.dtype.names:    # This means it's a struct, it's bit of a kludge test.\n",
    "            print '\\t' * indent + 'Field: ' + str(n)\n",
    "            print_mat_nested(d[n], indent+1)\n",
    "\n",
    "print_mat_nested(batterydata5, nkeys=10)"
   ]
  },
  {
   "cell_type": "code",
   "execution_count": null,
   "metadata": {},
   "outputs": [],
   "source": []
  }
 ],
 "metadata": {
  "kernelspec": {
   "display_name": "Python 3",
   "language": "python",
   "name": "python3"
  },
  "language_info": {
   "codemirror_mode": {
    "name": "ipython",
    "version": 3
   },
   "file_extension": ".py",
   "mimetype": "text/x-python",
   "name": "python",
   "nbconvert_exporter": "python",
   "pygments_lexer": "ipython3",
   "version": "3.7.3"
  }
 },
 "nbformat": 4,
 "nbformat_minor": 4
}
